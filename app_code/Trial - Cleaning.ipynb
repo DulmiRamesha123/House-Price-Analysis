{
 "cells": [
  {
   "cell_type": "code",
   "execution_count": null,
   "metadata": {},
   "outputs": [],
   "source": [
    "import pandas as pd\n",
    "import numpy as np\n",
    "import datetime as dt\n",
    "import matplotlib.pyplot as plt\n",
    "%matplotlib inline\n",
    "import seaborn as sns\n",
    "import scipy.stats as stats\n",
    "pd.set_option('float_format', '{:f}'.format)\n"
   ]
  },
  {
   "cell_type": "code",
   "execution_count": null,
   "metadata": {},
   "outputs": [],
   "source": [
    "#importing data\n",
    "df = pd.read_csv('kc_house_data.csv')\n",
    "df"
   ]
  },
  {
   "cell_type": "code",
   "execution_count": null,
   "metadata": {},
   "outputs": [],
   "source": [
    "df.isnull().sum()"
   ]
  },
  {
   "cell_type": "code",
   "execution_count": null,
   "metadata": {},
   "outputs": [],
   "source": [
    "df.dtypes"
   ]
  },
  {
   "cell_type": "code",
   "execution_count": null,
   "metadata": {},
   "outputs": [],
   "source": [
    "price_corr = df.corr()['price'].sort_values(ascending=False)\n",
    "print(price_corr)"
   ]
  },
  {
   "cell_type": "code",
   "execution_count": null,
   "metadata": {},
   "outputs": [],
   "source": [
    "df = df.drop(['id'],axis=1)"
   ]
  },
  {
   "cell_type": "code",
   "execution_count": null,
   "metadata": {},
   "outputs": [],
   "source": [
    "df.dtypes"
   ]
  },
  {
   "cell_type": "markdown",
   "metadata": {},
   "source": [
    "## Cleaning"
   ]
  },
  {
   "cell_type": "code",
   "execution_count": null,
   "metadata": {},
   "outputs": [],
   "source": [
    "#changing question marks to 0.0\n",
    "#df = df.replace('?', 0.0)\n",
    "#df.view = df.view.replace(np.nan, 0)\n",
    "#changing all column object types to floats (except date column)\n",
    "#df.loc[:, df.columns != 'date'] = df.loc[:,df.columns != 'date'].astype('float')\n",
    "\n",
    "#changing all 0.0 in sqft_basement column, yr_renovated, and waterfront columns to NaN values\n",
    "#df['sqft_basement'] = df['sqft_basement'].replace(0.0 , np.nan)\n",
    "#df['waterfront'] = df.waterfront.replace(0.0, np.nan)\n",
    "#df['yr_renovated'] =df['yr_renovated'].replace(0.0, np.nan)\n",
    "#changing date column to datetime values\n",
    "#df['date'] = pd.to_datetime(df['date'])\n",
    "#df['yr_sold'] = df['date'].dt.to_period('Y')\n",
    "#df = df.drop(['id'],axis=1)"
   ]
  },
  {
   "cell_type": "markdown",
   "metadata": {},
   "source": [
    "## Feature Engineering"
   ]
  },
  {
   "cell_type": "code",
   "execution_count": null,
   "metadata": {},
   "outputs": [],
   "source": [
    "#creating has_basement, has_waterfront, has_renovation columns with True/False values\n",
    "df['has_waterfront'] = df['waterfront'].notnull().astype('int64')\n",
    "#df['has_basement'] = df['sqft_basement'].notnull().astype('int64')\n",
    "#df['has_renovation'] = df['yr_renovated'].notnull().astype('int64')\n",
    "#creating eff_built column (which updates built year depending on whether it was renovated or not)\n",
    "#df.loc[df['yr_renovated'].notnull(), 'eff_built'] = 2020 - df['yr_renovated']\n",
    "#df.loc[df['yr_renovated'].isnull(), 'eff_built'] = 2020 -df['yr_built']\n",
    "#df.eff_built = df.eff_built.astype('int64')\n",
    "\n",
    "#correcting data types\n",
    "##discrete vars as int\n",
    "df.bedrooms = df.bedrooms.astype('int64')\n",
    "df.bathrooms = df.bathrooms.astype('int64')\n",
    "df.floors = df.floors.astype('int64')\n",
    "#df.zipcode = df.zipcode.astype('int64')\n",
    "#df.condition = df.condition.astype('int64')\n",
    "df.grade = df.grade.astype('int64')\n",
    "df.view = df.view.astype('int64')\n",
    "\n",
    "#categoricals as obj\n",
    "#df.zipcode = df.zipcode.astype('object')\n",
    "\n",
    "#drop pre-processed columns\n",
    "#df = df.drop(['waterfront'],axis=1)\n"
   ]
  },
  {
   "cell_type": "code",
   "execution_count": null,
   "metadata": {},
   "outputs": [],
   "source": [
    "df['sqft_total'] = df['sqft_basement'] + df['sqft_living']+df['sqft_lot']+df['sqft_above']"
   ]
  },
  {
   "cell_type": "code",
   "execution_count": null,
   "metadata": {},
   "outputs": [],
   "source": [
    "df = df.drop(['sqft_basement','sqft_living','sqft_lot','sqft_above','waterfront','sqft_lot15','sqft_living15'],axis=1)"
   ]
  },
  {
   "cell_type": "code",
   "execution_count": null,
   "metadata": {},
   "outputs": [],
   "source": [
    "df.describe(include='all')"
   ]
  },
  {
   "cell_type": "code",
   "execution_count": null,
   "metadata": {},
   "outputs": [],
   "source": [
    "df.info()"
   ]
  },
  {
   "cell_type": "markdown",
   "metadata": {},
   "source": [
    "## Export"
   ]
  },
  {
   "cell_type": "code",
   "execution_count": null,
   "metadata": {},
   "outputs": [],
   "source": [
    "df.to_csv('kc_cleaned_corr.csv',index=False)\n",
    "df"
   ]
  },
  {
   "cell_type": "code",
   "execution_count": null,
   "metadata": {},
   "outputs": [],
   "source": [
    "df = pd.read_csv('kc_cleaned_corr.csv')"
   ]
  },
  {
   "cell_type": "code",
   "execution_count": null,
   "metadata": {},
   "outputs": [],
   "source": [
    "#Prices should be integers, not floats. Pennies are irreleveant when dealing with high prices\n",
    "\n",
    "df.price = df.price.astype(np.int)"
   ]
  },
  {
   "cell_type": "code",
   "execution_count": null,
   "metadata": {},
   "outputs": [],
   "source": [
    "df.columns"
   ]
  },
  {
   "cell_type": "code",
   "execution_count": null,
   "metadata": {},
   "outputs": [],
   "source": [
    "# Select columns to plot\n",
    "\n",
    "cols_to_plot = df[['date', 'price', 'bedrooms', 'bathrooms', 'floors', 'view', 'condition',\n",
    "       'grade', 'yr_built', 'yr_renovated', 'zipcode', 'lat', 'long',\n",
    "       'has_waterfront', 'sqft_total']]"
   ]
  },
  {
   "cell_type": "code",
   "execution_count": null,
   "metadata": {
    "scrolled": false
   },
   "outputs": [],
   "source": [
    "# Function to plot scatterplots\n",
    "\n",
    "def plot_scatterplots():\n",
    "    for i in cols_to_plot.columns:\n",
    "        cat_num = cols_to_plot[i].value_counts()\n",
    "        print('Graph for {}: Total = {}'.format(i.capitalize(), len(cat_num)))\n",
    "        sns.scatterplot(x=cat_num.index, y=cat_num)\n",
    "        plt.xticks(rotation=90)\n",
    "        plt.show()\n",
    "        \n",
    "plot_scatterplots()"
   ]
  },
  {
   "cell_type": "code",
   "execution_count": null,
   "metadata": {},
   "outputs": [],
   "source": [
    "#Price Outliers\n",
    "df.loc[df.price > 6000000]"
   ]
  },
  {
   "cell_type": "code",
   "execution_count": null,
   "metadata": {},
   "outputs": [],
   "source": [
    "# Only 11 homes over $4mil.\n",
    "# I think we can safely drop these. \n",
    "\n",
    "print(len(df.loc[df.price > 4000000]))\n",
    "df.loc[df.price > 4000000]"
   ]
  },
  {
   "cell_type": "code",
   "execution_count": null,
   "metadata": {},
   "outputs": [],
   "source": [
    "# Drop homes over $4mil\n",
    "\n",
    "df = df[df.price < 4000000]\n",
    "df"
   ]
  },
  {
   "cell_type": "code",
   "execution_count": null,
   "metadata": {},
   "outputs": [],
   "source": [
    "#bedroom outliers\n",
    "# 11 and 33 bedroom homes are clearly anomalies as they only have 1 listing each. 10 bedroom homes are also very rare with 3 listings. \n",
    "# I'll remove all homes with 10, 11, and 33 bedrooms. \n",
    "\n",
    "df.bedrooms.value_counts()\n",
    "# Drop 10, 11, and 33 bedroom homes"
   ]
  },
  {
   "cell_type": "code",
   "execution_count": null,
   "metadata": {},
   "outputs": [],
   "source": [
    "df = df[df.bedrooms < 10]\n",
    "# Let's examine homes with 0 bedrooms."
   ]
  },
  {
   "cell_type": "code",
   "execution_count": null,
   "metadata": {},
   "outputs": [],
   "source": [
    "# A house with 0 bedrooms doesn't make sense to me. There are houses with 0 bedrooms and 0 bathrooms but have huge lots? \n",
    "# Are these possibly offices? Was the data not entered correctly?\n",
    "# I'm going to drop all of these rows because I think we'll come up with more accurate models this way. \n",
    "\n",
    "df[df.bedrooms == 0]\n",
    "# Drop houses with 0 bedrooms"
   ]
  },
  {
   "cell_type": "code",
   "execution_count": null,
   "metadata": {},
   "outputs": [],
   "source": [
    "df = df[df.bedrooms > 0]"
   ]
  },
  {
   "cell_type": "code",
   "execution_count": null,
   "metadata": {},
   "outputs": [],
   "source": [
    "df.bathrooms.value_counts()\n",
    "# A house with no bathrooms? Again, is this possibly some sort of store/office? Still seems strange if that's the case. \n",
    "# I'm going to drop the 3 rows."
   ]
  },
  {
   "cell_type": "code",
   "execution_count": null,
   "metadata": {},
   "outputs": [],
   "source": [
    "df[df.bathrooms == 0]"
   ]
  },
  {
   "cell_type": "code",
   "execution_count": null,
   "metadata": {},
   "outputs": [],
   "source": [
    "df = df[df.bathrooms > 0]"
   ]
  },
  {
   "cell_type": "code",
   "execution_count": null,
   "metadata": {},
   "outputs": [],
   "source": [
    "df.bathrooms.value_counts()"
   ]
  },
  {
   "cell_type": "code",
   "execution_count": null,
   "metadata": {},
   "outputs": [],
   "source": [
    "df = df[df.bathrooms < 6]"
   ]
  },
  {
   "cell_type": "code",
   "execution_count": null,
   "metadata": {},
   "outputs": [],
   "source": [
    "# Looks better now.  \n",
    "df.bathrooms.value_counts()"
   ]
  },
  {
   "cell_type": "code",
   "execution_count": null,
   "metadata": {},
   "outputs": [],
   "source": [
    "#Sqft_living - outliers\n",
    "# These rows were dropped in one of the previous steps while removing outliers. \n",
    "\n",
    "#df[df.sqft_living > 10000]"
   ]
  },
  {
   "cell_type": "code",
   "execution_count": null,
   "metadata": {},
   "outputs": [],
   "source": [
    "#Sqft lot - outliers\n",
    "#df.sqft_lot.value_counts()"
   ]
  },
  {
   "cell_type": "code",
   "execution_count": null,
   "metadata": {},
   "outputs": [],
   "source": [
    "#print(len(df[df.sqft_lot > 750000]))"
   ]
  },
  {
   "cell_type": "code",
   "execution_count": null,
   "metadata": {},
   "outputs": [],
   "source": [
    "#df[df.sqft_lot > 750000]"
   ]
  },
  {
   "cell_type": "code",
   "execution_count": null,
   "metadata": {},
   "outputs": [],
   "source": [
    "# Let's drop the 11 rows of homes that have a lot of over 7500000 as they seem like outliers.\n",
    "\n",
    "#df = df[df.sqft_lot < 750000]"
   ]
  },
  {
   "cell_type": "code",
   "execution_count": null,
   "metadata": {},
   "outputs": [],
   "source": [
    "#sqft_living\n",
    "\n",
    "#df[df.sqft_living > 8000]"
   ]
  },
  {
   "cell_type": "code",
   "execution_count": null,
   "metadata": {},
   "outputs": [],
   "source": [
    "#df = df[df.sqft_living < 8000]"
   ]
  },
  {
   "cell_type": "code",
   "execution_count": null,
   "metadata": {},
   "outputs": [],
   "source": [
    "#df.columns"
   ]
  },
  {
   "cell_type": "code",
   "execution_count": null,
   "metadata": {},
   "outputs": [],
   "source": [
    "#sqft_above\n",
    "\n",
    "#len(df[df.sqft_above > 6000])"
   ]
  },
  {
   "cell_type": "code",
   "execution_count": null,
   "metadata": {},
   "outputs": [],
   "source": [
    "#df = df[df.sqft_above < 6000]"
   ]
  },
  {
   "cell_type": "code",
   "execution_count": null,
   "metadata": {},
   "outputs": [],
   "source": [
    "#sqft_basement\n",
    "\n",
    "#len(df[df.sqft_basement > 3000])"
   ]
  },
  {
   "cell_type": "code",
   "execution_count": null,
   "metadata": {},
   "outputs": [],
   "source": [
    "#df = df[df.sqft_basement < 3000]"
   ]
  },
  {
   "cell_type": "code",
   "execution_count": null,
   "metadata": {},
   "outputs": [],
   "source": [
    "#sqft_total\n",
    "\n",
    "df[df.sqft_total > 750000]"
   ]
  },
  {
   "cell_type": "code",
   "execution_count": null,
   "metadata": {},
   "outputs": [],
   "source": [
    "df = df[df.sqft_total < 750000]"
   ]
  },
  {
   "cell_type": "code",
   "execution_count": null,
   "metadata": {},
   "outputs": [],
   "source": [
    "len(df[df.sqft_total > 750000])"
   ]
  },
  {
   "cell_type": "code",
   "execution_count": null,
   "metadata": {},
   "outputs": [],
   "source": [
    "df.to_csv('kc_cleaned_after_removingoutliers.csv',index=False)\n",
    "df"
   ]
  },
  {
   "cell_type": "code",
   "execution_count": null,
   "metadata": {},
   "outputs": [],
   "source": []
  }
 ],
 "metadata": {
  "kernelspec": {
   "display_name": "Python 3",
   "language": "python",
   "name": "python3"
  },
  "language_info": {
   "codemirror_mode": {
    "name": "ipython",
    "version": 3
   },
   "file_extension": ".py",
   "mimetype": "text/x-python",
   "name": "python",
   "nbconvert_exporter": "python",
   "pygments_lexer": "ipython3",
   "version": "3.8.8"
  }
 },
 "nbformat": 4,
 "nbformat_minor": 4
}
