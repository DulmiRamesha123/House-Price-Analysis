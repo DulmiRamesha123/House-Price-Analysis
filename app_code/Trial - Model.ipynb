{
 "cells": [
  {
   "cell_type": "code",
   "execution_count": null,
   "id": "ed759091",
   "metadata": {},
   "outputs": [],
   "source": [
    "import numpy as np # linear algebra\n",
    "import pandas as pd # data processing, CSV file I/O (e.g. pd.read_csv)\n",
    "# Regular Imports\n",
    "#import os\n",
    "import seaborn as sns\n",
    "import matplotlib as mpl\n",
    "import matplotlib.pyplot as plt\n",
    "import matplotlib.image as mpimg\n",
    "import matplotlib.patches as patches\n",
    "from tabulate import tabulate\n",
    "import missingno as msno \n",
    "import warnings\n",
    "from joblib import dump, load\n",
    "warnings.filterwarnings(\"ignore\")\n",
    "\n",
    "#!pip install -U scikit-learn==0.24.1\n",
    "\n",
    "#import sklearn\n",
    "#sklearn.__version__\n",
    "from sklearn.preprocessing import OneHotEncoder\n",
    "\n",
    "# Set Color Palettes for the notebook\n",
    "custom_colors = ['#74a09e','#86c1b2','#98e2c6','#f3c969','#f2a553', '#d96548', '#c14953']\n",
    "sns.palplot(sns.color_palette(custom_colors))\n",
    "\n",
    "# Set Style\n",
    "sns.set_style(\"whitegrid\",{\"grid.linestyle\":\"--\"})\n",
    "sns.despine(left=True, bottom=True)\n",
    "mpl.rcParams['figure.dpi'] = 250\n",
    "mpl.rc('axes', labelsize=10)\n",
    "plt.rc('xtick',labelsize=10)\n",
    "plt.rc('ytick',labelsize=10)\n",
    "\n",
    "%matplotlib inline\n",
    "%config InlineBackend.figure_format = 'svg'\n"
   ]
  },
  {
   "cell_type": "markdown",
   "id": "240d23ac",
   "metadata": {},
   "source": [
    "# EDA "
   ]
  },
  {
   "cell_type": "code",
   "execution_count": null,
   "id": "143b4923",
   "metadata": {},
   "outputs": [],
   "source": [
    "#import the dataset\n",
    "house_df = pd.read_csv('kc_cleaned_after_removingoutliers.csv',parse_dates=['date'])"
   ]
  },
  {
   "cell_type": "code",
   "execution_count": null,
   "id": "86183e16",
   "metadata": {},
   "outputs": [],
   "source": [
    "#Assess the presence of missing values\n",
    "\n",
    "house_df.isna().sum()"
   ]
  },
  {
   "cell_type": "code",
   "execution_count": null,
   "id": "9ce6feb9",
   "metadata": {},
   "outputs": [],
   "source": [
    "#Or graphically:\n",
    "\n",
    "msno.matrix(house_df, figsize=(12.5,5), fontsize=10, color=(0.8, 0.25, 0.25));\n"
   ]
  },
  {
   "cell_type": "code",
   "execution_count": null,
   "id": "2f6d8b18",
   "metadata": {},
   "outputs": [],
   "source": [
    "# number of unique values for each feature\n",
    "\n",
    "for column in house_df.columns:\n",
    "    print(f'Unique values for {column}: {len(house_df[column].unique())}')"
   ]
  },
  {
   "cell_type": "code",
   "execution_count": null,
   "id": "7cdcf337",
   "metadata": {},
   "outputs": [],
   "source": [
    "#\"id\" feature has basically an unique values for each transaction to identify it.\n",
    "#Therefore, it can be eliminated from the dataset as not informative.\n",
    "\n",
    "house_df.drop('id', axis=1, inplace=True)"
   ]
  },
  {
   "cell_type": "code",
   "execution_count": null,
   "id": "f8a192b8",
   "metadata": {},
   "outputs": [],
   "source": [
    "house_df.info()"
   ]
  },
  {
   "cell_type": "code",
   "execution_count": null,
   "id": "1b214480",
   "metadata": {},
   "outputs": [],
   "source": [
    "#Pearson correlation matrix\n",
    "\n",
    "sns.set(style=\"whitegrid\", font_scale=1)\n",
    "\n",
    "plt.figure(figsize=(13,13))\n",
    "plt.title('Pearson Correlation Matrix',fontsize=25)\n",
    "sns.heatmap(house_df.corr(),linewidths=0.45,vmax=0.7,square=True,cmap=\"GnBu\",linecolor='w',\n",
    "            annot=True, annot_kws={\"size\":7}, cbar_kws={\"shrink\": .8});\n",
    "\n",
    "sns.set_style(\"whitegrid\",{\"grid.linestyle\":\"--\"})"
   ]
  },
  {
   "cell_type": "code",
   "execution_count": null,
   "id": "c1f2e32f",
   "metadata": {},
   "outputs": [],
   "source": [
    "price_corr = house_df.corr()['price'].sort_values(ascending=False)\n",
    "print(price_corr)"
   ]
  },
  {
   "cell_type": "code",
   "execution_count": null,
   "id": "10517a9b",
   "metadata": {},
   "outputs": [],
   "source": [
    "# ZipCode\n",
    "#Taken at face value, the zipcode does not appear to capture much information about the house prices.\n",
    "#Correlation is -0.05. However, this is highly misleading. All things equal, \"Zipcodes\" connected to posh, well-off areas \n",
    "#identify proprieties with higher prices or values. \n",
    "#In total there are 70 zipcodes in King County:"
   ]
  },
  {
   "cell_type": "code",
   "execution_count": null,
   "id": "306828fc",
   "metadata": {},
   "outputs": [],
   "source": [
    "# Number of Zipcodes:\n",
    "len(house_df['zipcode'].unique())"
   ]
  },
  {
   "cell_type": "code",
   "execution_count": null,
   "id": "4c739818",
   "metadata": {},
   "outputs": [],
   "source": [
    "fig, ax = plt.subplots(figsize=(13,6))\n",
    "\n",
    "g = sns.countplot(x='zipcode', hue='waterfront', data=house_df, ax=ax, )\n",
    "g.set_xticklabels(labels = house_df['zipcode'].unique(), rotation=90, fontsize=10);\n",
    "g.grid(linestyle='--')"
   ]
  },
  {
   "cell_type": "code",
   "execution_count": null,
   "id": "a752aa6e",
   "metadata": {},
   "outputs": [],
   "source": [
    "fig,ax = plt.subplots(figsize=(15,6))\n",
    "sns.boxplot(x='zipcode',y='price',data=house_df,ax=ax, palette='Reds');\n",
    "ax.set_xticklabels(labels = house_df['zipcode'].unique(), rotation=90, fontsize=10);\n",
    "ax.set_title('Boxplot: Price Distribution by Zipcodes');"
   ]
  },
  {
   "cell_type": "code",
   "execution_count": null,
   "id": "2276a20f",
   "metadata": {},
   "outputs": [],
   "source": [
    "#Feature Analysis: Bedrooms, Floors and Bathrooms:\n",
    "\n",
    "f, axes = plt.subplots(1, 2,figsize=(15,5))\n",
    "sns.boxplot(x=house_df['bedrooms'],y=house_df['price'], ax=axes[0], palette = 'autumn_r')\n",
    "sns.boxplot(x=house_df['floors'],y=house_df['price'], ax=axes[1], palette = 'autumn_r')\n",
    "sns.despine(left=True, bottom=True)\n",
    "axes[0].set(xlabel='Bedrooms', ylabel='Price')\n",
    "axes[0].yaxis.tick_left()\n",
    "axes[1].yaxis.set_label_position(\"right\")\n",
    "axes[1].yaxis.tick_right()\n",
    "axes[1].set(xlabel='Floors', ylabel='Price')\n",
    "\n",
    "f, axe = plt.subplots(1, 1,figsize=(15,5))\n",
    "sns.despine(left=True, bottom=True)\n",
    "sns.boxplot(x=house_df['bathrooms'],y=house_df['price'], ax=axe, palette = 'autumn_r')\n",
    "axe.yaxis.tick_left()\n",
    "axe.set(xlabel='Bathrooms', ylabel='Price');"
   ]
  },
  {
   "cell_type": "code",
   "execution_count": null,
   "id": "b6cbb83e",
   "metadata": {},
   "outputs": [],
   "source": [
    "#Feature Analysis: WaterFront, View and Grade:\n",
    "\n",
    "f, axes = plt.subplots(1, 2,figsize=(15,5))\n",
    "sns.boxplot(x=house_df['waterfront'],y=house_df['price'], ax=axes[0], palette = 'viridis')\n",
    "sns.boxplot(x=house_df['view'],y=house_df['price'], ax=axes[1], palette = 'viridis')\n",
    "sns.despine(left=True, bottom=True)\n",
    "axes[0].set(xlabel='Waterfront', ylabel='Price')\n",
    "axes[0].yaxis.tick_left()\n",
    "axes[1].yaxis.set_label_position(\"right\")\n",
    "axes[1].yaxis.tick_right()\n",
    "axes[1].set(xlabel='View', ylabel='Price')\n",
    "\n",
    "\n",
    "f, axe = plt.subplots(1, 1,figsize=(15,5))\n",
    "sns.boxplot(x=house_df['grade'],y=house_df['price'], ax=axe, palette = 'viridis')\n",
    "sns.despine(left=True, bottom=True)\n",
    "axe.yaxis.tick_left()\n",
    "axe.set(xlabel='Grade', ylabel='Price');"
   ]
  },
  {
   "cell_type": "code",
   "execution_count": null,
   "id": "6beafa1a",
   "metadata": {},
   "outputs": [],
   "source": [
    "# Construnction Year and Renovations: Binning\n",
    "\n",
    "# just take the year from the date column\n",
    "house_df['sales_yr']=pd.DatetimeIndex(house_df['date']).year\n",
    "house_df['sales_mth']=pd.DatetimeIndex(house_df['date']).month\n",
    "\n",
    "# add the age of the buildings when the houses were sold as a new column\n",
    "house_df['age']=house_df['sales_yr']-house_df['yr_built']\n",
    "\n",
    "# add the age of the renovation when the houses were sold as a new column\n",
    "house_df['age_rnv']=0\n",
    "house_df['age_rnv']=house_df['sales_yr'][house_df['yr_renovated']!=0].astype(int)-house_df['yr_renovated'][house_df['yr_renovated']!=0]\n",
    "house_df['age_rnv'][house_df['age_rnv'].isnull()]=house_df['age']"
   ]
  },
  {
   "cell_type": "code",
   "execution_count": null,
   "id": "16deabaf",
   "metadata": {},
   "outputs": [],
   "source": [
    "# partition the age into bins\n",
    "bins_age = [-2,1,5,10,20,30,60,100,100000]\n",
    "labels = [0,5,10,20,30,60,80,100]\n",
    "house_df['age_binned'] = pd.cut(house_df['age'], bins=bins_age, labels=labels)"
   ]
  },
  {
   "cell_type": "code",
   "execution_count": null,
   "id": "913cdc13",
   "metadata": {},
   "outputs": [],
   "source": [
    "# partition the age_rnv into bins\n",
    "bins_ren = [-2,1,5,10,20,30,50,100000]\n",
    "labels = [0,5,10,20,30,60,100]\n",
    "house_df['age_rnv_binned'] = pd.cut(house_df['age_rnv'], bins=bins_ren, labels=labels)"
   ]
  },
  {
   "cell_type": "code",
   "execution_count": null,
   "id": "7935be49",
   "metadata": {
    "scrolled": false
   },
   "outputs": [],
   "source": [
    "fig, ax = plt.subplots(1,2, figsize=(15,5))\n",
    "\n",
    "sns.countplot(house_df['age_binned'], palette='Reds', ax=ax[0], alpha=0.85);\n",
    "sns.countplot(house_df['age_rnv_binned'], palette='Blues', ax=ax[1], alpha=0.85)\n",
    "ax[0].set_title('Years since Construction')\n",
    "ax[1].set_title('Years since Renovation');"
   ]
  },
  {
   "cell_type": "code",
   "execution_count": null,
   "id": "a35e8fdc",
   "metadata": {},
   "outputs": [],
   "source": [
    "#Year and Month of Transaction - Information Extraction\n",
    "\n",
    "house_df.groupby([\"sales_yr\",\"sales_mth\"])[\"price\"].agg(['mean','median']).plot(figsize=(15,6), marker='*', markersize = 12)\n",
    "plt.title('Price Evolution over Time', fontsize=17);"
   ]
  },
  {
   "cell_type": "code",
   "execution_count": null,
   "id": "0b497be9",
   "metadata": {},
   "outputs": [],
   "source": [
    "house_df.drop(['date'], inplace=True, axis=1)\n",
    "house_df.drop(['yr_built','yr_renovated'], inplace=True, axis=1)\n",
    "\n"
   ]
  },
  {
   "cell_type": "code",
   "execution_count": null,
   "id": "0a6e4640",
   "metadata": {},
   "outputs": [],
   "source": [
    "house_df_bin = house_df[['price', 'bedrooms', 'bathrooms', 'sqft_living', 'sqft_lot', 'floors',\n",
    "                         'waterfront', 'view', 'condition', 'grade', 'sqft_above','sqft_basement',\n",
    "                         'zipcode', 'lat', 'long', 'sqft_living15','sqft_lot15', 'sales_yr',\n",
    "                         'sales_mth','age_binned','age_rnv_binned']]"
   ]
  },
  {
   "cell_type": "markdown",
   "id": "0f243358",
   "metadata": {},
   "source": [
    "## Features to Normalize"
   ]
  },
  {
   "cell_type": "code",
   "execution_count": null,
   "id": "752379cd",
   "metadata": {},
   "outputs": [],
   "source": [
    "# Price:\n",
    "\n",
    "plt.figure(figsize=(10,6))\n",
    "sns.distplot(house_df_bin[\"price\"], color='r');"
   ]
  },
  {
   "cell_type": "code",
   "execution_count": null,
   "id": "6063c4b2",
   "metadata": {
    "scrolled": false
   },
   "outputs": [],
   "source": [
    "house_df_bin[\"log_price\"] = np.log(house_df_bin[\"price\"])\n",
    "\n",
    "plt.figure(figsize=(10,6))\n",
    "sns.distplot(house_df_bin[\"log_price\"], color='r');"
   ]
  },
  {
   "cell_type": "code",
   "execution_count": null,
   "id": "39c57154",
   "metadata": {},
   "outputs": [],
   "source": [
    "house_df_bin.drop(['price'], inplace=True, axis=1)"
   ]
  },
  {
   "cell_type": "code",
   "execution_count": null,
   "id": "6e72c0ca",
   "metadata": {},
   "outputs": [],
   "source": [
    "#Addtional Feature to Normalize:\n",
    "\n",
    "cols = [\"sqft_living\",\"sqft_lot\",\"sqft_basement\",\"sqft_living15\",\"sqft_lot15\"]\n",
    "house_df_bin[cols].describe()"
   ]
  },
  {
   "cell_type": "code",
   "execution_count": null,
   "id": "486694b6",
   "metadata": {},
   "outputs": [],
   "source": [
    "house_df_bin.loc[:,'sqft_basement_log'] = np.log(house_df_bin.loc[:,'sqft_basement']+1)\n",
    "house_df_bin.loc[:,'sqft_living_log'] = np.log(house_df_bin.loc[:,'sqft_living'])\n",
    "house_df_bin.loc[:,'sqft_lot_log'] = np.log(house_df_bin.loc[:,'sqft_lot'])\n",
    "house_df_bin.loc[:,'sqft_living15_log'] = np.log(house_df_bin.loc[:,'sqft_living15'])\n",
    "house_df_bin.loc[:,'sqft_lot15_log'] = np.log(house_df_bin.loc[:,'sqft_lot15'])"
   ]
  },
  {
   "cell_type": "code",
   "execution_count": null,
   "id": "90a37ed0",
   "metadata": {},
   "outputs": [],
   "source": [
    "house_df_bin.head()"
   ]
  },
  {
   "cell_type": "code",
   "execution_count": null,
   "id": "c7d68e5e",
   "metadata": {},
   "outputs": [],
   "source": [
    "log_cols = [\"sqft_living_log\",\"sqft_lot_log\",\"sqft_basement_log\",\"sqft_living15_log\",\"sqft_lot15_log\"]\n",
    "\n",
    "fig, axes = plt.subplots(2,5,figsize=(13,5))\n",
    "axes = np.ravel(axes)\n",
    "for num, ax in enumerate(axes):\n",
    "  if num<5:\n",
    "    sns.distplot(house_df_bin[cols[num]],ax=ax, color=custom_colors[num])\n",
    "  else:\n",
    "    sns.distplot(house_df_bin[log_cols[num-5]],ax=ax, color=custom_colors[num-5])\n",
    "    \n",
    "plt.tight_layout()"
   ]
  },
  {
   "cell_type": "code",
   "execution_count": null,
   "id": "c7580f40",
   "metadata": {},
   "outputs": [],
   "source": [
    "house_df_bin.drop(cols, axis=1, inplace=True)"
   ]
  },
  {
   "cell_type": "code",
   "execution_count": null,
   "id": "9a6551fd",
   "metadata": {},
   "outputs": [],
   "source": [
    "house_df_bin.columns"
   ]
  },
  {
   "cell_type": "code",
   "execution_count": null,
   "id": "08de4ab4",
   "metadata": {},
   "outputs": [],
   "source": [
    "#Data Preprocessing/Feature Engineering:\n",
    "\n",
    "#OneHotEncoder()\n",
    "\n",
    "from sklearn.preprocessing import OneHotEncoder, StandardScaler, MinMaxScaler\n",
    "\n",
    "house_df_bin['age_binned'] = house_df_bin['age_binned'].astype('int64') \n",
    "house_df_bin['age_rnv_binned'] = house_df_bin['age_rnv_binned'].astype('int64') \n",
    "\n",
    "numerical_columns = house_df_bin.drop(['log_price','zipcode'], axis=1).columns\n",
    "scaler = MinMaxScaler()\n",
    "\n",
    "categorical_columns = ['zipcode']\n",
    "ohe = OneHotEncoder(handle_unknown='error', drop='first', sparse=False)"
   ]
  },
  {
   "cell_type": "code",
   "execution_count": null,
   "id": "802e6486",
   "metadata": {},
   "outputs": [],
   "source": [
    "# Logarithm and back to normal value\n",
    "\n",
    "#house_df_bin[\"SalePrice\"] = 10 ** house_df_bin[\"log_price\"] "
   ]
  },
  {
   "cell_type": "code",
   "execution_count": null,
   "id": "a665cc7b",
   "metadata": {},
   "outputs": [],
   "source": [
    "X_bin = house_df_bin.drop(['log_price'], axis=1)\n",
    "y = house_df_bin['log_price']"
   ]
  },
  {
   "cell_type": "code",
   "execution_count": null,
   "id": "61537a77",
   "metadata": {},
   "outputs": [],
   "source": [
    "print(f'Total number of Features: {len(X_bin.columns)}')\n",
    "X_bin.columns"
   ]
  },
  {
   "cell_type": "code",
   "execution_count": null,
   "id": "d8847ebb",
   "metadata": {},
   "outputs": [],
   "source": [
    "#Train-Validation-Test dataset:\n",
    "\n",
    "from sklearn.model_selection import train_test_split, GridSearchCV\n",
    "\n",
    "X_train, X_test, y_train, y_test = train_test_split(X_bin, y,  test_size=.15, random_state=170378)\n",
    "X_train, X_valid, y_train, y_valid = train_test_split(X_train, y_train,  test_size=.18, random_state=170378)\n",
    "\n",
    "print(f\"Train Data Shape: {X_train.shape}\")\n",
    "print(f\"Valid Data Shape: {X_valid.shape}\")\n",
    "print(f\"Test Data Shape: {X_test.shape}\")"
   ]
  },
  {
   "cell_type": "code",
   "execution_count": null,
   "id": "b0bd9bf4",
   "metadata": {},
   "outputs": [],
   "source": [
    "y_train_lev = np.exp(y_train)\n",
    "y_valid_lev = np.exp(y_valid)\n",
    "y_test_lev = np.exp(y_test)"
   ]
  },
  {
   "cell_type": "code",
   "execution_count": null,
   "id": "4ecfa330",
   "metadata": {},
   "outputs": [],
   "source": [
    "#ColumnTransformer()\n",
    "\n",
    "from sklearn.compose import ColumnTransformer\n",
    "\n",
    "preprocessor = ColumnTransformer(transformers =[('num', scaler, numerical_columns),('cat', ohe, categorical_columns)],remainder='drop')"
   ]
  },
  {
   "cell_type": "code",
   "execution_count": null,
   "id": "1bdce792",
   "metadata": {},
   "outputs": [],
   "source": [
    "#Modeling\n",
    "\n",
    "from xgboost import XGBRegressor\n",
    "from sklearn.pipeline import Pipeline\n",
    "from sklearn.metrics import mean_squared_error, r2_score\n",
    "\n",
    "from sklearn import set_config\n",
    "set_config(display='diagram',)"
   ]
  },
  {
   "cell_type": "code",
   "execution_count": null,
   "id": "eb00175e",
   "metadata": {},
   "outputs": [],
   "source": [
    "#A DataFRame to store the results is created:\n",
    "\n",
    "index = ['XGBRegressor']\n",
    "col = ['R2 Train', 'RMSE Train','R2 Valid', 'RMSE Valid']\n",
    "\n",
    "results_df_log = pd.DataFrame(index=index, columns=col)\n",
    "results_df_lev = pd.DataFrame(index=index, columns=col)"
   ]
  },
  {
   "cell_type": "code",
   "execution_count": null,
   "id": "d1c83afa",
   "metadata": {},
   "outputs": [],
   "source": [
    "#XGBRegressor\n",
    "\n",
    "# hyper-parameters to tune\n",
    "\n",
    "#xgb1 = XGBRegressor(nthread=4,subsample=0.9,colsample_bytree=0.7,min_child_weight=4,silent=1,objective='reg:squarederror'\n",
    "#                    ,verbosity=0)\n",
    "\n",
    "#xg_param = {'learning_rate': [0.01, 0.03, 0.05, 0.1],\n",
    "#            'max_depth': [7, 8, 9, 10],\n",
    "#              'n_estimators': [200, 300, 500, 700, 900]}\n",
    "\n",
    "#Xb_gridsearch = GridSearchCV(estimator=xgb1,\n",
    "#                          param_grid=xg_param,\n",
    "#                          cv=5,\n",
    "#                          return_train_score=True) "
   ]
  },
  {
   "cell_type": "code",
   "execution_count": null,
   "id": "150ddb54",
   "metadata": {},
   "outputs": [],
   "source": [
    "#Create pipeline\n",
    "\n",
    "#xg_pipeline = Pipeline(steps=[('preprocessor', preprocessor),\n",
    "#                              ('m', Xb_gridsearch)])"
   ]
  },
  {
   "cell_type": "code",
   "execution_count": null,
   "id": "956a17a2",
   "metadata": {},
   "outputs": [],
   "source": [
    "#%%time\n",
    "#xg_best_model = xg_pipeline.fit(X_train, y_train)\n",
    "#xg_best_model"
   ]
  },
  {
   "cell_type": "code",
   "execution_count": null,
   "id": "9d2b9362",
   "metadata": {},
   "outputs": [],
   "source": [
    "#xg_best_model['m'].best_params_"
   ]
  },
  {
   "cell_type": "code",
   "execution_count": null,
   "id": "8359948c",
   "metadata": {},
   "outputs": [],
   "source": [
    "learn_rate = 0.03 #xg_best_model['m'].best_params_.get('learning_rate')\n",
    "n_est = 700 #xg_best_model['m'].best_params_.get('n_estimators')\n",
    "tree_md = 8 #xg_best_model['m'].best_params_.get('max_depth')"
   ]
  },
  {
   "cell_type": "code",
   "execution_count": null,
   "id": "2bf9c25a",
   "metadata": {},
   "outputs": [],
   "source": [
    "%%time\n",
    "from sklearn.model_selection import cross_val_score\n",
    "# Various hyper-parameters to tune\n",
    "xgb_opt = XGBRegressor(learning_rate=learn_rate,\n",
    "                       n_estimators=n_est,\n",
    "                       max_depth=tree_md,\n",
    "                       nthread=4,\n",
    "                       subsample=0.9,\n",
    "                       colsample_bytree=0.7,\n",
    "                       min_child_weight=4,\n",
    "                       objective='reg:squarederror')\n",
    "\n",
    "best_xg_pipeline = Pipeline(steps=[('preprocessor', preprocessor),\n",
    "                                    ('m', xgb_opt)])\n",
    "\n",
    "print(cross_val_score(best_xg_pipeline,X_train, y_train,cv=5))\n",
    "\n",
    "best_xg_model = best_xg_pipeline.fit(X_train, y_train)\n",
    "best_xg_model"
   ]
  },
  {
   "cell_type": "code",
   "execution_count": null,
   "id": "266752f7",
   "metadata": {},
   "outputs": [],
   "source": [
    "#Train Score: \n",
    "print(f'Score on Training set: {best_xg_model.score(X_train, y_train)}')\n",
    "\n",
    "#Validation Score:\n",
    "print(f'Score on Valuation set: {best_xg_model.score(X_valid, y_valid)}')"
   ]
  },
  {
   "cell_type": "code",
   "execution_count": null,
   "id": "02497128",
   "metadata": {},
   "outputs": [],
   "source": [
    "y_hat_train = best_xg_model.predict(X_train)\n",
    "y_hat_valid = best_xg_model.predict(X_valid)\n",
    "\n",
    "y_hat_train_lev = np.exp(y_hat_train)\n",
    "y_hat_valid_lev = np.exp(y_hat_valid)"
   ]
  },
  {
   "cell_type": "code",
   "execution_count": null,
   "id": "60beb798",
   "metadata": {},
   "outputs": [],
   "source": []
  },
  {
   "cell_type": "code",
   "execution_count": null,
   "id": "a5948986",
   "metadata": {},
   "outputs": [],
   "source": []
  },
  {
   "cell_type": "code",
   "execution_count": null,
   "id": "20a7c653",
   "metadata": {},
   "outputs": [],
   "source": [
    "fig, ax = plt.subplots(1,2,figsize=(11,5), sharey=True, sharex=True)\n",
    "\n",
    "#y_hat_train and y_hat_valid \n",
    "\n",
    "ax[0].scatter(y_hat_train,y_train)\n",
    "ax[1].scatter(y_hat_valid,y_valid, c='r')\n",
    "ax[0].set_title('Train Dataset')\n",
    "ax[1].set_title('Validation Dataset')\n",
    "\n",
    "plt.suptitle('XGBRegressor');"
   ]
  },
  {
   "cell_type": "code",
   "execution_count": null,
   "id": "af8e68bc",
   "metadata": {},
   "outputs": [],
   "source": [
    "#y_hat_train_lev and y_hat_valid_lev \n",
    "\n",
    "#fig, ax = plt.subplots(1,2,figsize=(11,5), sharey=True, sharex=True)\n",
    "\n",
    "#ax[0].scatter(y_hat_train_lev,y_train_lev)\n",
    "#ax[1].scatter(y_hat_valid_lev,y_valid_lev, c='r')\n",
    "#ax[0].set_title('Train Dataset')\n",
    "#ax[1].set_title('Validation Dataset');\n",
    "\n",
    "#plt.suptitle('XGBRegressor');"
   ]
  },
  {
   "cell_type": "code",
   "execution_count": null,
   "id": "49b43e08",
   "metadata": {},
   "outputs": [],
   "source": [
    "mse_train_xgb = mean_squared_error(y_train, y_hat_train, squared=False)\n",
    "mse_valid_xgb = mean_squared_error(y_valid, y_hat_valid, squared=False)\n",
    "\n",
    "r2_train_xgb = r2_score(y_train, y_hat_train)\n",
    "r2_valid_xgb = r2_score(y_valid, y_hat_valid)\n",
    "\n",
    "print(f'MSE Score on Training set: {mse_train_xgb}')\n",
    "print(f'MSE Score on Validation set: {mse_valid_xgb}')\n",
    "print('\\n')\n",
    "print(f'R2 Score on Training set: {r2_train_xgb}')\n",
    "print(f'R2 Score on Training set: {r2_valid_xgb}')"
   ]
  },
  {
   "cell_type": "code",
   "execution_count": null,
   "id": "edf5941a",
   "metadata": {},
   "outputs": [],
   "source": [
    "results_df_log.loc['XGBRegressor','R2 Train'] = r2_train_xgb\n",
    "results_df_log.loc['XGBRegressor','R2 Valid'] = r2_valid_xgb\n",
    "results_df_log.loc['XGBRegressor','RMSE Train'] = mse_train_xgb\n",
    "results_df_log.loc['XGBRegressor','RMSE Valid'] = mse_valid_xgb"
   ]
  },
  {
   "cell_type": "code",
   "execution_count": null,
   "id": "5efd21fc",
   "metadata": {},
   "outputs": [],
   "source": [
    "#XGBRagressor is the model delivering the best results on the validation dataset. \n",
    "#The table below summarizes the overall results using the target feature in log:\n",
    "\n",
    "results_df_log"
   ]
  },
  {
   "cell_type": "code",
   "execution_count": null,
   "id": "e5f944da",
   "metadata": {},
   "outputs": [],
   "source": [
    "#The model is now tested on the test dataset\n",
    "\n",
    "y_hat_test = best_xg_model.predict(X_test)\n",
    "y_hat_test_lev = np.exp(y_hat_test)"
   ]
  },
  {
   "cell_type": "code",
   "execution_count": null,
   "id": "6aa21a26",
   "metadata": {},
   "outputs": [],
   "source": [
    "mse_test_xgb = mean_squared_error(y_test, y_hat_test, squared=False)\n",
    "r2_test_xgb = r2_score(y_test, y_hat_test)\n",
    "\n",
    "print(f'MSE Score on Test set: {mse_test_xgb}')\n",
    "print('\\n')\n",
    "print(f'R2 Score on Test set: {r2_test_xgb}')"
   ]
  },
  {
   "cell_type": "code",
   "execution_count": null,
   "id": "c9af7fa8",
   "metadata": {},
   "outputs": [],
   "source": [
    "mse_test_xgb = mean_squared_error(y_test_lev, y_hat_test_lev, squared=False)\n",
    "r2_test_xgb = r2_score(y_test_lev, y_hat_test_lev)\n",
    "\n",
    "print(f'MSE Score on Test set: {mse_test_xgb}')\n",
    "print('\\n')\n",
    "print(f'R2 Score on Test set: {r2_test_xgb}')"
   ]
  },
  {
   "cell_type": "code",
   "execution_count": null,
   "id": "f56d37d2",
   "metadata": {},
   "outputs": [],
   "source": [
    "fig, ax = plt.subplots(1,1,figsize=(6,5), sharey=True, sharex=True)\n",
    "\n",
    "ax.scatter(y_hat_test_lev,y_test_lev);"
   ]
  },
  {
   "cell_type": "code",
   "execution_count": null,
   "id": "8edc03dc",
   "metadata": {
    "scrolled": false
   },
   "outputs": [],
   "source": [
    "import matplotlib.pyplot as plt\n",
    "\n",
    "x= y_hat_test_lev\n",
    "y = y_test_lev\n",
    "plt.scatter(x,y)\n",
    "plt.title(\"Real  Vs Prediction\")\n",
    "plt.xlabel(\"Predicted Price\")\n",
    "plt.ylabel(\"Real Price\")\n",
    "plt.show()"
   ]
  },
  {
   "cell_type": "code",
   "execution_count": null,
   "id": "90b36625",
   "metadata": {},
   "outputs": [],
   "source": [
    "prediction = pd.DataFrame(index=y_test.index,columns=['Real Value','Prediction','Difference'])\n",
    "\n",
    "prediction['Real Value'] = np.round(y_test_lev,0)\n",
    "prediction['Prediction'] = np.round(y_hat_test_lev,0)\n",
    "prediction['Difference'] = np.round(abs(y_test_lev - y_hat_test_lev),0)\n",
    "\n",
    "#Convert DataFrame to a csv file that can be uploaded\n",
    "#This is saved in the same directory as your notebook\n",
    "filename = 'King County House Prediction.csv'\n",
    "\n",
    "prediction.to_csv(filename,index=False)\n",
    "\n",
    "print('Saved file: ' + filename)"
   ]
  },
  {
   "cell_type": "code",
   "execution_count": null,
   "id": "7bf99941",
   "metadata": {},
   "outputs": [],
   "source": [
    "price_pred= prediction['Prediction']\n",
    "price_diff = prediction['Difference']\n",
    "df_test=pd.DataFrame({'price_actual':prediction['Real Value'],'price_predicted':price_pred ,'difference' :price_diff})\n",
    "df_test.tail(10)"
   ]
  },
  {
   "cell_type": "code",
   "execution_count": null,
   "id": "f69803e2",
   "metadata": {},
   "outputs": [],
   "source": [
    "house_df.columns"
   ]
  },
  {
   "cell_type": "code",
   "execution_count": null,
   "id": "7bcbcb69",
   "metadata": {},
   "outputs": [],
   "source": [
    "import pickle\n",
    "with open('gboostmodel_1.pickle','wb') as f:\n",
    "    pickle.dump(best_xg_model,f)"
   ]
  },
  {
   "cell_type": "code",
   "execution_count": null,
   "id": "8af75c56",
   "metadata": {},
   "outputs": [],
   "source": []
  }
 ],
 "metadata": {
  "kernelspec": {
   "display_name": "Python 3",
   "language": "python",
   "name": "python3"
  },
  "language_info": {
   "codemirror_mode": {
    "name": "ipython",
    "version": 3
   },
   "file_extension": ".py",
   "mimetype": "text/x-python",
   "name": "python",
   "nbconvert_exporter": "python",
   "pygments_lexer": "ipython3",
   "version": "3.8.8"
  }
 },
 "nbformat": 4,
 "nbformat_minor": 5
}
